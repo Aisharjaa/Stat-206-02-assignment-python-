{
  "nbformat": 4,
  "nbformat_minor": 0,
  "metadata": {
    "colab": {
      "name": "STAT 02 PYTHON ASGNMNT.ipynb",
      "version": "0.3.2",
      "provenance": []
    },
    "kernelspec": {
      "name": "python3",
      "display_name": "Python 3"
    }
  },
  "cells": [
    {
      "cell_type": "code",
      "metadata": {
        "id": "gK9-auMqMLh9",
        "colab_type": "code",
        "colab": {
          "base_uri": "https://localhost:8080/",
          "height": 606
        },
        "outputId": "7ee50da3-c8fa-455b-a192-94ae36fb138d"
      },
      "source": [
        "import numpy as np \n",
        "import matplotlib.pyplot as plt \n",
        "import math\n",
        "\n",
        "def getX():\n",
        "  number_array = list()\n",
        "  number = input(\"Enter the number of elements you want for x:\")\n",
        "  print('Enter numbers in x:')\n",
        "  for i in range(int(number)):\n",
        "    n = input(\"number:\")\n",
        "    n = math.log10(float(n))\n",
        "    number_array.append(float(n))\n",
        "\n",
        "  return number_array\n",
        "\n",
        "def getY():\n",
        "  number_array = list()\n",
        "  number = input(\"Enter the number of elements you want for y:\")\n",
        "  print(\"enter number in y\")\n",
        "  for i in range(int(number)):\n",
        "    n = input(\"number:\")\n",
        "    n = math.log10(float(n))\n",
        "    number_array.append(float(n))\n",
        "  return number_array\n",
        "\n",
        "def estimate_coef(x, y): \n",
        "\t# number of observations/points \n",
        "\tn = np.size(x) \n",
        "\n",
        "\t# mean of x and y vector \n",
        "\tm_x, m_y = np.mean(x), np.mean(y) \n",
        "\n",
        "\t# calculating cross-deviation and deviation about x \n",
        "\tSS_xy = np.sum(y*x) - n*m_y*m_x \n",
        "\tSS_xx = np.sum(x*x) - n*m_x*m_x \n",
        "\n",
        "\t# calculating regression coefficients \n",
        "\ty = SS_xy / SS_xx \n",
        "\tx = m_y - y*m_x \n",
        "\n",
        "\treturn(x, y) \n",
        "\n",
        "def plot_regression_line(x, y, b): \n",
        "\t# plotting the actual points as scatter plot \n",
        "\tplt.scatter(x, y, color = \"m\", \n",
        "\t\t\tmarker = \"o\", s = 30) \n",
        "\n",
        "\t# predicted response vector \n",
        "\ty_pred = b[0] + b[1]*x \n",
        "\n",
        "\t# plotting the regression line \n",
        "\tplt.plot(x, y_pred, color = \"g\") \n",
        "\n",
        "\t# putting labels \n",
        "\tplt.xlabel('x') \n",
        "\tplt.ylabel('y') \n",
        "\t# function to show plot \n",
        "\tplt.show() \n",
        "\n",
        "def main(): \n",
        "\t# observations x = [65, 63, 67, 64, 68, 62, 70, 66, 68, 67,69,71]\n",
        "  # y = [68, 66, 68, 65, 69, 66, 68, 65, 71, 67,68,70]\n",
        "\tx = np.array(getX()) \n",
        "\ty = np.array(getY())\n",
        "\t\n",
        "\t# estimating coefficients \n",
        "\tb = estimate_coef(x, y) \n",
        "\tprint(\"Estimated coefficients:\\nx = {} \\ny = {}\".format(b[0], b[1])) \n",
        "\n",
        "\t# plotting regression line \n",
        "\tplot_regression_line(x, y, b) \n",
        "\n",
        "\n",
        "main()"
      ],
      "execution_count": 1,
      "outputs": [
        {
          "output_type": "stream",
          "text": [
            "Enter the number of elements you want for x:6\n",
            "Enter numbers in x:\n",
            "number:54.3\n",
            "number:61.8\n",
            "number:72.4\n",
            "number:88.7\n",
            "number:118.6\n",
            "number:194.0\n",
            "Enter the number of elements you want for y:6\n",
            "enter number in y\n",
            "number:61.2\n",
            "number:49.5\n",
            "number:37.6\n",
            "number:28.4\n",
            "number:19.7\n",
            "number:10.1\n",
            "Estimated coefficients:\n",
            "x = 4.192228655108105 \n",
            "y = -1.3975417425677845\n"
          ],
          "name": "stdout"
        },
        {
          "output_type": "display_data",
          "data": {
            "image/png": "[encoded data removed]",
            "text/plain": [
              "<Figure size 432x288 with 1 Axes>"
            ]
          },
          "metadata": {
            "tags": []
          }
        }
      ]
    }
  ]
}